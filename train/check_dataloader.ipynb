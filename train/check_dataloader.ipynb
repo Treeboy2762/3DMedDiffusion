{
 "cells": [
  {
   "cell_type": "code",
   "execution_count": 3,
   "id": "246c3d15",
   "metadata": {},
   "outputs": [
    {
     "name": "stderr",
     "output_type": "stream",
     "text": [
      "/home/daesungk/miniconda3/envs/meddiff/lib/python3.11/site-packages/tqdm/auto.py:21: TqdmWarning: IProgress not found. Please update jupyter and ipywidgets. See https://ipywidgets.readthedocs.io/en/stable/user_install.html\n",
      "  from .autonotebook import tqdm as notebook_tqdm\n",
      "Seed set to 1234\n"
     ]
    },
    {
     "name": "stdout",
     "output_type": "stream",
     "text": [
      "Found 21609 files for train split\n",
      "Base path: gs://cmu-gpucloud-daesungk/CT-RATE/dataset/train_fixed/\n",
      "With patch size 64\n",
      "Minor affine augmentation enabled: scales=(0.98,1.02), rotation=±2°, translation=±3 voxels\n"
     ]
    }
   ],
   "source": [
    "import sys\n",
    "import os\n",
    "sys.path.append('/home/daesungk/3DMedDiffusion')\n",
    "import pytorch_lightning as pl\n",
    "from dataset.vqgan_4x_ct_rate import VQGANDataset_4x_CT_RATE\n",
    "import argparse\n",
    "from omegaconf import OmegaConf\n",
    "\n",
    "\n",
    "\n",
    "cfg_path = '/home/daesungk/3DMedDiffusion/config/PatchVolume_4x_CT_RATE_8GPU.yaml'\n",
    "cfg = OmegaConf.load(cfg_path)\n",
    "pl.seed_everything(cfg.model.seed)\n",
    "downsample_ratio = cfg.model.downsample[0]\n",
    "\n",
    "train_dataset = VQGANDataset_4x_CT_RATE(\n",
    "    root_dir=cfg.dataset.root_dir, augmentation=True, split='train', stage=cfg.model.stage)"
   ]
  },
  {
   "cell_type": "code",
   "execution_count": 4,
   "id": "14828bb8",
   "metadata": {},
   "outputs": [
    {
     "ename": "FileNotFoundError",
     "evalue": "[Errno 2] No such file or directory: '/tmp/gcsfuse_CTRATE/train_14560_a_1.npy'",
     "output_type": "error",
     "traceback": [
      "\u001b[31m---------------------------------------------------------------------------\u001b[39m",
      "\u001b[31mFileNotFoundError\u001b[39m                         Traceback (most recent call last)",
      "\u001b[36mCell\u001b[39m\u001b[36m \u001b[39m\u001b[32mIn[4]\u001b[39m\u001b[32m, line 1\u001b[39m\n\u001b[32m----> \u001b[39m\u001b[32m1\u001b[39m \u001b[43mtrain_dataset\u001b[49m\u001b[43m.\u001b[49m\u001b[34;43m__getitem__\u001b[39;49m\u001b[43m(\u001b[49m\u001b[32;43m0\u001b[39;49m\u001b[43m)\u001b[49m\n",
      "\u001b[36mFile \u001b[39m\u001b[32m~/3DMedDiffusion/dataset/vqgan_4x_ct_rate.py:54\u001b[39m, in \u001b[36mVQGANDataset_4x_CT_RATE.__getitem__\u001b[39m\u001b[34m(self, index)\u001b[39m\n\u001b[32m     51\u001b[39m \u001b[38;5;28;01mdef\u001b[39;00m\u001b[38;5;250m \u001b[39m\u001b[34m__getitem__\u001b[39m(\u001b[38;5;28mself\u001b[39m, index):\n\u001b[32m     53\u001b[39m     fname = \u001b[38;5;28mself\u001b[39m.label.loc[index, \u001b[33m'\u001b[39m\u001b[33mVolumeName\u001b[39m\u001b[33m'\u001b[39m]\n\u001b[32m---> \u001b[39m\u001b[32m54\u001b[39m     img_np = \u001b[43mnp\u001b[49m\u001b[43m.\u001b[49m\u001b[43mload\u001b[49m\u001b[43m(\u001b[49m\u001b[43mos\u001b[49m\u001b[43m.\u001b[49m\u001b[43mpath\u001b[49m\u001b[43m.\u001b[49m\u001b[43mjoin\u001b[49m\u001b[43m(\u001b[49m\u001b[33;43m'\u001b[39;49m\u001b[33;43m/tmp/gcsfuse_CTRATE\u001b[39;49m\u001b[33;43m'\u001b[39;49m\u001b[43m,\u001b[49m\u001b[43m \u001b[49m\u001b[43mfname\u001b[49m\u001b[43m)\u001b[49m\u001b[43m)\u001b[49m[np.newaxis, :]\n\u001b[32m     56\u001b[39m     \u001b[38;5;66;03m# 2. Convert the NumPy array to a PyTorch tensor\u001b[39;00m\n\u001b[32m     57\u001b[39m     img_tensor = torch.from_numpy(img_np).float()\n",
      "\u001b[36mFile \u001b[39m\u001b[32m~/miniconda3/envs/meddiff/lib/python3.11/site-packages/numpy/lib/npyio.py:427\u001b[39m, in \u001b[36mload\u001b[39m\u001b[34m(file, mmap_mode, allow_pickle, fix_imports, encoding, max_header_size)\u001b[39m\n\u001b[32m    425\u001b[39m     own_fid = \u001b[38;5;28;01mFalse\u001b[39;00m\n\u001b[32m    426\u001b[39m \u001b[38;5;28;01melse\u001b[39;00m:\n\u001b[32m--> \u001b[39m\u001b[32m427\u001b[39m     fid = stack.enter_context(\u001b[38;5;28;43mopen\u001b[39;49m\u001b[43m(\u001b[49m\u001b[43mos_fspath\u001b[49m\u001b[43m(\u001b[49m\u001b[43mfile\u001b[49m\u001b[43m)\u001b[49m\u001b[43m,\u001b[49m\u001b[43m \u001b[49m\u001b[33;43m\"\u001b[39;49m\u001b[33;43mrb\u001b[39;49m\u001b[33;43m\"\u001b[39;49m\u001b[43m)\u001b[49m)\n\u001b[32m    428\u001b[39m     own_fid = \u001b[38;5;28;01mTrue\u001b[39;00m\n\u001b[32m    430\u001b[39m \u001b[38;5;66;03m# Code to distinguish from NumPy binary files and pickles.\u001b[39;00m\n",
      "\u001b[31mFileNotFoundError\u001b[39m: [Errno 2] No such file or directory: '/tmp/gcsfuse_CTRATE/train_14560_a_1.npy'"
     ]
    }
   ],
   "source": [
    "train_dataset.__getitem__(0)"
   ]
  }
 ],
 "metadata": {
  "kernelspec": {
   "display_name": "meddiff",
   "language": "python",
   "name": "python3"
  },
  "language_info": {
   "codemirror_mode": {
    "name": "ipython",
    "version": 3
   },
   "file_extension": ".py",
   "mimetype": "text/x-python",
   "name": "python",
   "nbconvert_exporter": "python",
   "pygments_lexer": "ipython3",
   "version": "3.11.13"
  }
 },
 "nbformat": 4,
 "nbformat_minor": 5
}
